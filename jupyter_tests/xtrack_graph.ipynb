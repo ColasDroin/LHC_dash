{
 "cells": [
  {
   "cell_type": "markdown",
   "metadata": {},
   "source": [
    "## X-track plotting"
   ]
  },
  {
   "cell_type": "markdown",
   "metadata": {},
   "source": [
    "### Imports"
   ]
  },
  {
   "cell_type": "code",
   "execution_count": null,
   "metadata": {},
   "outputs": [],
   "source": [
    "# Import standard libraries\n",
    "import numpy as np\n",
    "from cpymad.madx import Madx\n",
    "import json\n",
    "import xtrack as xt\n",
    "import xfields as xf\n",
    "import pandas as pd\n",
    "import plotly.graph_objects as go\n",
    "import plotly.io as pio\n",
    "import plotly.express as px\n",
    "import matplotlib.pyplot as plt\n",
    "from ipywidgets import widgets, Layout\n",
    "from ipywidgets import interact\n",
    "from plotly.subplots import make_subplots\n",
    "\n",
    "# Import plotting functions\n",
    "from plotting_functions import return_plot_lattice_with_tracking\n",
    "\n",
    "# Nicer plots\n",
    "pio.templates.default = \"plotly_white\"\n",
    "\n",
    "# Different backend\n",
    "import plotly.io as pio\n",
    "# pio.renderers.default = \"vscode\"\n",
    "\n",
    "# Color list [blue, red, green, purple, orange,light blue, pink, light green, light violet, yellow]\n",
    "l_colors = px.colors.qualitative.Plotly\n",
    "\n",
    "\n"
   ]
  },
  {
   "cell_type": "markdown",
   "metadata": {},
   "source": [
    "### Load json files, build trackers and corresponding dataframes"
   ]
  },
  {
   "cell_type": "code",
   "execution_count": null,
   "metadata": {},
   "outputs": [],
   "source": [
    "# Load the lines into json files\n",
    "with open(\"json_lines/line_b1.json\", \"r\") as fid:\n",
    "    dct_b1 = json.load(fid)\n",
    "    line_b1 = xt.Line.from_dict(dct_b1)\n",
    "\n",
    "with open(\"json_lines/line_b4.json\", \"r\") as fid:\n",
    "    dct_b4 = json.load(fid)\n",
    "    line_b4 = xt.Line.from_dict(dct_b4)\n",
    "\n",
    "# Build trackers\n",
    "tracker_b1 = line_b1.build_tracker()\n",
    "tracker_b4 = line_b4.build_tracker()\n",
    "\n",
    "\n"
   ]
  },
  {
   "cell_type": "code",
   "execution_count": null,
   "metadata": {},
   "outputs": [],
   "source": [
    "from dash import Dash, html, dcc, Input, Output\n",
    "from jupyter_dash import JupyterDash\n",
    "import dash_cytoscape as cyto\n",
    "\n",
    "app = JupyterDash(__name__)"
   ]
  },
  {
   "cell_type": "code",
   "execution_count": 63,
   "metadata": {},
   "outputs": [],
   "source": [
    "nodes = []\n",
    "edges = []\n",
    "set_nodes = set()\n",
    "set_edges = set()\n",
    "# Browse all the vars\n",
    "for key in tracker_b1.vars._value.keys():\n",
    "    if key not in set_nodes:\n",
    "        # convert key to var string\n",
    "        key_str = \"vars['\"+key+\"']\"\n",
    "        # Add the node\n",
    "        nodes.append(\n",
    "            {\n",
    "                \"data\": {\"id\": key_str, \"label\": key_str},\n",
    "            }\n",
    "        )\n",
    "        # Add node to the set \n",
    "        set_nodes.add(key_str)\n",
    "    \n",
    "    # Add all children\n",
    "    for child in tracker_b1.vars[key]._find_dependant_targets():\n",
    "        if str(child) not in set_nodes:\n",
    "            # Add the node\n",
    "            nodes.append(\n",
    "                {\n",
    "                    \"data\": {\"id\": str(child), \"label\": str(child)},\n",
    "                }\n",
    "            )\n",
    "            # Add node to the set \n",
    "            set_nodes.add(str(child))\n",
    "        if (key_str, str(child)) not in set_edges and key_str!=str(child):\n",
    "            # Add the edge\n",
    "            edges.append(\n",
    "                {\"data\": {\"source\": key_str, \"target\": str(child)}}\n",
    "            )\n",
    "            # Add edge to the set\n",
    "            set_edges.add((key_str, str(child)))\n",
    "        \n",
    "\n",
    "        # Add subsequent grandchildren\n",
    "        for grandchild in tracker_b1.vars[str(child).split(\"'\")[1]]._find_dependant_targets():\n",
    "            if str(grandchild) not in set_nodes:\n",
    "                # Add the node\n",
    "                nodes.append(\n",
    "                    {\n",
    "                        \"data\": {\"id\": str(grandchild), \"label\": str(grandchild)},\n",
    "                    }\n",
    "                )\n",
    "                # Add node to the set \n",
    "                set_nodes.add(str(grandchild))\n",
    "            if (str(child), str(grandchild)) not in set_edges and str(grandchild)!=str(child):\n",
    "                edges.append(\n",
    "                    {\"data\": {\"source\": str(child), \"target\": str(grandchild)}}\n",
    "                )\n",
    "\n",
    "\n"
   ]
  },
  {
   "cell_type": "code",
   "execution_count": 65,
   "metadata": {},
   "outputs": [
    {
     "name": "stdout",
     "output_type": "stream",
     "text": [
      "[{'data': {'source': \"vars['l.bpmwg']\", 'target': \"element_refs['bpmwg.a5l3.b1'].length\"}}, {'data': {'source': \"element_refs['bpmwg.a5l3.b1'].length\", 'target': \"vars['bpmwg.a5l3.b1']\"}}, {'data': {'source': \"vars['l.bpmwg']\", 'target': \"element_refs['bpmwg.a5l3.b1']\"}}, {'data': {'source': \"element_refs['bpmwg.a5l3.b1']\", 'target': \"vars['bpmwg.a5l3.b1']\"}}, {'data': {'source': \"vars['l.tcapd']\", 'target': \"element_refs['tcapd.5l3.b1']\"}}, {'data': {'source': \"vars['l.tcapd']\", 'target': \"element_refs['tcapd.5l3.b1'].length\"}}, {'data': {'source': \"vars['l.tcapd']\", 'target': \"element_refs['tcapd.5l3.b1']\"}}, {'data': {'source': \"element_refs['tcapd.5l3.b1']\", 'target': \"vars['tcapd.5l3.b1']\"}}, {'data': {'source': \"vars['l.tcapd']\", 'target': \"element_refs['tcapd.5l3.b1'].length\"}}, {'data': {'source': \"element_refs['tcapd.5l3.b1'].length\", 'target': \"vars['tcapd.5l3.b1']\"}}, {'data': {'source': \"vars['kqt5.l3']\", 'target': \"element_refs['mqwb.5l3.b1..2']\"}}, {'data': {'source': \"vars['kqt5.l3']\", 'target': \"element_refs['mqwb.5l3.b1..3'].knl\"}}, {'data': {'source': \"vars['kqt5.l3']\", 'target': \"element_refs['mqwb.5l3.b1..1'].knl\"}}, {'data': {'source': \"vars['kqt5.l3']\", 'target': \"element_refs['mqwb.5l3.b1..2'].knl[1]\"}}, {'data': {'source': \"vars['kqt5.l3']\", 'target': \"element_refs['mqwb.5l3.b1..4'].knl\"}}, {'data': {'source': \"vars['kqt5.l3']\", 'target': \"element_refs['mqwb.5l3.b1..1']\"}}, {'data': {'source': \"vars['kqt5.l3']\", 'target': \"element_refs['mqwb.5l3.b1..2'].knl\"}}, {'data': {'source': \"vars['kqt5.l3']\", 'target': \"element_refs['mqwb.5l3.b1..3'].knl[1]\"}}, {'data': {'source': \"vars['kqt5.l3']\", 'target': \"element_refs['mqwb.5l3.b1..4'].knl[1]\"}}, {'data': {'source': \"vars['kqt5.l3']\", 'target': \"element_refs['mqwb.5l3.b1..4']\"}}, {'data': {'source': \"vars['kqt5.l3']\", 'target': \"element_refs['mqwb.5l3.b1..3']\"}}, {'data': {'source': \"vars['kqt5.l3']\", 'target': \"element_refs['mqwb.5l3.b1..1'].knl[1]\"}}, {'data': {'source': \"vars['kqt5.l3']\", 'target': \"element_refs['mqwb.5l3.b1..2']\"}}, {'data': {'source': \"element_refs['mqwb.5l3.b1..2']\", 'target': \"vars['mqwb.5l3.b1..2']\"}}, {'data': {'source': \"vars['kqt5.l3']\", 'target': \"element_refs['mqwb.5l3.b1..3'].knl\"}}, {'data': {'source': \"element_refs['mqwb.5l3.b1..3'].knl\", 'target': \"vars['mqwb.5l3.b1..3']\"}}, {'data': {'source': \"vars['kqt5.l3']\", 'target': \"element_refs['mqwb.5l3.b1..1'].knl\"}}, {'data': {'source': \"element_refs['mqwb.5l3.b1..1'].knl\", 'target': \"vars['mqwb.5l3.b1..1']\"}}, {'data': {'source': \"vars['kqt5.l3']\", 'target': \"element_refs['mqwb.5l3.b1..2'].knl[1]\"}}, {'data': {'source': \"element_refs['mqwb.5l3.b1..2'].knl[1]\", 'target': \"vars['mqwb.5l3.b1..2']\"}}, {'data': {'source': \"vars['kqt5.l3']\", 'target': \"element_refs['mqwb.5l3.b1..4'].knl\"}}, {'data': {'source': \"element_refs['mqwb.5l3.b1..4'].knl\", 'target': \"vars['mqwb.5l3.b1..4']\"}}, {'data': {'source': \"vars['kqt5.l3']\", 'target': \"element_refs['mqwb.5l3.b1..1']\"}}, {'data': {'source': \"element_refs['mqwb.5l3.b1..1']\", 'target': \"vars['mqwb.5l3.b1..1']\"}}, {'data': {'source': \"vars['kqt5.l3']\", 'target': \"element_refs['mqwb.5l3.b1..2'].knl\"}}, {'data': {'source': \"element_refs['mqwb.5l3.b1..2'].knl\", 'target': \"vars['mqwb.5l3.b1..2']\"}}, {'data': {'source': \"vars['kqt5.l3']\", 'target': \"element_refs['mqwb.5l3.b1..3'].knl[1]\"}}, {'data': {'source': \"element_refs['mqwb.5l3.b1..3'].knl[1]\", 'target': \"vars['mqwb.5l3.b1..3']\"}}, {'data': {'source': \"vars['kqt5.l3']\", 'target': \"element_refs['mqwb.5l3.b1..4'].knl[1]\"}}, {'data': {'source': \"element_refs['mqwb.5l3.b1..4'].knl[1]\", 'target': \"vars['mqwb.5l3.b1..4']\"}}, {'data': {'source': \"vars['kqt5.l3']\", 'target': \"element_refs['mqwb.5l3.b1..4']\"}}, {'data': {'source': \"element_refs['mqwb.5l3.b1..4']\", 'target': \"vars['mqwb.5l3.b1..4']\"}}, {'data': {'source': \"vars['kqt5.l3']\", 'target': \"element_refs['mqwb.5l3.b1..3']\"}}, {'data': {'source': \"element_refs['mqwb.5l3.b1..3']\", 'target': \"vars['mqwb.5l3.b1..3']\"}}, {'data': {'source': \"vars['kqt5.l3']\", 'target': \"element_refs['mqwb.5l3.b1..1'].knl[1]\"}}, {'data': {'source': \"element_refs['mqwb.5l3.b1..1'].knl[1]\", 'target': \"vars['mqwb.5l3.b1..1']\"}}, {'data': {'source': \"vars['acbwv5.l3b1']\", 'target': \"element_refs['mcbwv.5l3.b1'].ksl\"}}, {'data': {'source': \"vars['acbwv5.l3b1']\", 'target': \"element_refs['mcbwv.5l3.b1']\"}}, {'data': {'source': \"vars['acbwv5.l3b1']\", 'target': \"element_refs['mcbwv.5l3.b1'].ksl[0]\"}}, {'data': {'source': \"vars['acbwv5.l3b1']\", 'target': \"element_refs['mcbwv.5l3.b1'].ksl\"}}, {'data': {'source': \"element_refs['mcbwv.5l3.b1'].ksl\", 'target': \"vars['mcbwv.5l3.b1']\"}}, {'data': {'source': \"vars['acbwv5.l3b1']\", 'target': \"element_refs['mcbwv.5l3.b1']\"}}, {'data': {'source': \"element_refs['mcbwv.5l3.b1']\", 'target': \"vars['mcbwv.5l3.b1']\"}}, {'data': {'source': \"vars['acbwv5.l3b1']\", 'target': \"element_refs['mcbwv.5l3.b1'].ksl[0]\"}}, {'data': {'source': \"element_refs['mcbwv.5l3.b1'].ksl[0]\", 'target': \"vars['mcbwv.5l3.b1']\"}}, {'data': {'source': \"vars['kqt4.l3']\", 'target': \"element_refs['mqwb.4l3.b1..1'].knl[1]\"}}, {'data': {'source': \"vars['kqt4.l3']\", 'target': \"element_refs['mqwb.4l3.b1..4'].knl[1]\"}}, {'data': {'source': \"vars['kqt4.l3']\", 'target': \"element_refs['mqwb.4l3.b1..1'].knl\"}}, {'data': {'source': \"vars['kqt4.l3']\", 'target': \"element_refs['mqwb.4l3.b1..4'].knl\"}}, {'data': {'source': \"vars['kqt4.l3']\", 'target': \"element_refs['mqwb.4l3.b1..2']\"}}, {'data': {'source': \"vars['kqt4.l3']\", 'target': \"element_refs['mqwb.4l3.b1..2'].knl\"}}, {'data': {'source': \"vars['kqt4.l3']\", 'target': \"element_refs['mqwb.4l3.b1..1']\"}}, {'data': {'source': \"vars['kqt4.l3']\", 'target': \"element_refs['mqwb.4l3.b1..3'].knl\"}}, {'data': {'source': \"vars['kqt4.l3']\", 'target': \"element_refs['mqwb.4l3.b1..3']\"}}, {'data': {'source': \"vars['kqt4.l3']\", 'target': \"element_refs['mqwb.4l3.b1..3'].knl[1]\"}}, {'data': {'source': \"vars['kqt4.l3']\", 'target': \"element_refs['mqwb.4l3.b1..2'].knl[1]\"}}, {'data': {'source': \"vars['kqt4.l3']\", 'target': \"element_refs['mqwb.4l3.b1..4']\"}}, {'data': {'source': \"vars['kqt4.l3']\", 'target': \"element_refs['mqwb.4l3.b1..1'].knl[1]\"}}, {'data': {'source': \"element_refs['mqwb.4l3.b1..1'].knl[1]\", 'target': \"vars['mqwb.4l3.b1..1']\"}}, {'data': {'source': \"vars['kqt4.l3']\", 'target': \"element_refs['mqwb.4l3.b1..4'].knl[1]\"}}, {'data': {'source': \"element_refs['mqwb.4l3.b1..4'].knl[1]\", 'target': \"vars['mqwb.4l3.b1..4']\"}}, {'data': {'source': \"vars['kqt4.l3']\", 'target': \"element_refs['mqwb.4l3.b1..1'].knl\"}}, {'data': {'source': \"element_refs['mqwb.4l3.b1..1'].knl\", 'target': \"vars['mqwb.4l3.b1..1']\"}}, {'data': {'source': \"vars['kqt4.l3']\", 'target': \"element_refs['mqwb.4l3.b1..4'].knl\"}}, {'data': {'source': \"element_refs['mqwb.4l3.b1..4'].knl\", 'target': \"vars['mqwb.4l3.b1..4']\"}}, {'data': {'source': \"vars['kqt4.l3']\", 'target': \"element_refs['mqwb.4l3.b1..2']\"}}, {'data': {'source': \"element_refs['mqwb.4l3.b1..2']\", 'target': \"vars['mqwb.4l3.b1..2']\"}}, {'data': {'source': \"vars['kqt4.l3']\", 'target': \"element_refs['mqwb.4l3.b1..2'].knl\"}}, {'data': {'source': \"element_refs['mqwb.4l3.b1..2'].knl\", 'target': \"vars['mqwb.4l3.b1..2']\"}}, {'data': {'source': \"vars['kqt4.l3']\", 'target': \"element_refs['mqwb.4l3.b1..1']\"}}, {'data': {'source': \"element_refs['mqwb.4l3.b1..1']\", 'target': \"vars['mqwb.4l3.b1..1']\"}}, {'data': {'source': \"vars['kqt4.l3']\", 'target': \"element_refs['mqwb.4l3.b1..3'].knl\"}}, {'data': {'source': \"element_refs['mqwb.4l3.b1..3'].knl\", 'target': \"vars['mqwb.4l3.b1..3']\"}}, {'data': {'source': \"vars['kqt4.l3']\", 'target': \"element_refs['mqwb.4l3.b1..3']\"}}, {'data': {'source': \"element_refs['mqwb.4l3.b1..3']\", 'target': \"vars['mqwb.4l3.b1..3']\"}}, {'data': {'source': \"vars['kqt4.l3']\", 'target': \"element_refs['mqwb.4l3.b1..3'].knl[1]\"}}, {'data': {'source': \"element_refs['mqwb.4l3.b1..3'].knl[1]\", 'target': \"vars['mqwb.4l3.b1..3']\"}}, {'data': {'source': \"vars['kqt4.l3']\", 'target': \"element_refs['mqwb.4l3.b1..2'].knl[1]\"}}, {'data': {'source': \"element_refs['mqwb.4l3.b1..2'].knl[1]\", 'target': \"vars['mqwb.4l3.b1..2']\"}}, {'data': {'source': \"vars['kqt4.l3']\", 'target': \"element_refs['mqwb.4l3.b1..4']\"}}, {'data': {'source': \"element_refs['mqwb.4l3.b1..4']\", 'target': \"vars['mqwb.4l3.b1..4']\"}}, {'data': {'source': \"vars['acbwh4.l3b1']\", 'target': \"element_refs['mcbwh.4l3.b1'].knl[0]\"}}, {'data': {'source': \"vars['acbwh4.l3b1']\", 'target': \"element_refs['mcbwh.4l3.b1'].knl\"}}, {'data': {'source': \"vars['acbwh4.l3b1']\", 'target': \"element_refs['mcbwh.4l3.b1']\"}}, {'data': {'source': \"vars['acbwh4.l3b1']\", 'target': \"element_refs['mcbwh.4l3.b1'].knl[0]\"}}, {'data': {'source': \"element_refs['mcbwh.4l3.b1'].knl[0]\", 'target': \"vars['mcbwh.4l3.b1']\"}}, {'data': {'source': \"vars['acbwh4.l3b1']\", 'target': \"element_refs['mcbwh.4l3.b1'].knl\"}}, {'data': {'source': \"element_refs['mcbwh.4l3.b1'].knl\", 'target': \"vars['mcbwh.4l3.b1']\"}}, {'data': {'source': \"vars['acbwh4.l3b1']\", 'target': \"element_refs['mcbwh.4l3.b1']\"}}, {'data': {'source': \"element_refs['mcbwh.4l3.b1']\", 'target': \"vars['mcbwh.4l3.b1']\"}}]\n"
     ]
    }
   ],
   "source": [
    "print(edges[-100:])"
   ]
  },
  {
   "cell_type": "code",
   "execution_count": null,
   "metadata": {},
   "outputs": [],
   "source": [
    "elements = nodes + edges\n",
    "\n",
    "\n",
    "app.layout = html.Div(\n",
    "    [\n",
    "        dcc.Dropdown(\n",
    "            id=\"dropdown-update-layout\",\n",
    "            value=\"grid\",\n",
    "            clearable=False,\n",
    "            options=[\n",
    "                {\"label\": name.capitalize(), \"value\": name}\n",
    "                for name in [\"grid\", \"random\", \"circle\", \"cose\", \"concentric\"]\n",
    "            ],\n",
    "        ),\n",
    "        cyto.Cytoscape(\n",
    "            id=\"cytoscape-update-layout\",\n",
    "            layout={\"name\": \"grid\"},\n",
    "            style={\"width\": \"100%\", \"height\": \"450px\"},\n",
    "            elements=elements,\n",
    "        ),\n",
    "    ]\n",
    ")\n",
    "\n",
    "\n",
    "@app.callback(\n",
    "    Output(\"cytoscape-update-layout\", \"layout\"),\n",
    "    Input(\"dropdown-update-layout\", \"value\"),\n",
    ")\n",
    "def update_layout(layout):\n",
    "    return {\"name\": layout, \"animate\": True}\n",
    "\n",
    "\n",
    "if __name__ == \"__main__\":\n",
    "    app.run_server(debug=True, port = 8054)"
   ]
  },
  {
   "cell_type": "code",
   "execution_count": null,
   "metadata": {},
   "outputs": [],
   "source": []
  },
  {
   "cell_type": "code",
   "execution_count": null,
   "metadata": {},
   "outputs": [],
   "source": []
  }
 ],
 "metadata": {
  "kernelspec": {
   "display_name": "Python 3 (ipykernel)",
   "language": "python",
   "name": "python3"
  },
  "language_info": {
   "codemirror_mode": {
    "name": "ipython",
    "version": 3
   },
   "file_extension": ".py",
   "mimetype": "text/x-python",
   "name": "python",
   "nbconvert_exporter": "python",
   "pygments_lexer": "ipython3",
   "version": "3.10.8"
  },
  "vscode": {
   "interpreter": {
    "hash": "258ed27130092d1611e438a5ae26a3133782840bad2ac649c8a295d1052b554d"
   }
  }
 },
 "nbformat": 4,
 "nbformat_minor": 4
}
