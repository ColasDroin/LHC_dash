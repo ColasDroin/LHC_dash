{
 "cells": [
  {
   "attachments": {},
   "cell_type": "markdown",
   "metadata": {},
   "source": [
    "## X-track plotting"
   ]
  },
  {
   "attachments": {},
   "cell_type": "markdown",
   "metadata": {},
   "source": [
    "### Imports"
   ]
  },
  {
   "cell_type": "code",
   "execution_count": null,
   "metadata": {},
   "outputs": [],
   "source": [
    "# Import standard libraries\n",
    "import numpy as np\n",
    "from cpymad.madx import Madx\n",
    "import json\n",
    "import xtrack as xt\n",
    "import xfields as xf\n",
    "import pandas as pd\n",
    "import plotly.graph_objects as go\n",
    "import plotly.io as pio\n",
    "import plotly.express as px\n",
    "\n",
    "# Import plotting functions\n",
    "from plotting_functions import return_plot_lattice_with_tracking\n",
    "\n",
    "# Nicer plots\n",
    "pio.templates.default = \"plotly_white\"\n",
    "\n",
    "# Different backend\n",
    "import plotly.io as pio\n",
    "# pio.renderers.default = \"vscode\"\n",
    "\n",
    "# Color list [blue, red, green, purple, orange,light blue, pink, light green, light violet, yellow]\n",
    "l_colors = px.colors.qualitative.Plotly\n",
    "\n",
    "\n"
   ]
  },
  {
   "attachments": {},
   "cell_type": "markdown",
   "metadata": {},
   "source": [
    "### Load json files, build trackers and corresponding dataframes"
   ]
  },
  {
   "cell_type": "code",
   "execution_count": null,
   "metadata": {},
   "outputs": [],
   "source": [
    "# Load the lines into json files\n",
    "with open(\"json_lines/line_b1.json\", \"r\") as fid:\n",
    "    dct_b1 = json.load(fid)\n",
    "    line_b1 = xt.Line.from_dict(dct_b1)\n",
    "\n",
    "with open(\"json_lines/line_b4.json\", \"r\") as fid:\n",
    "    dct_b4 = json.load(fid)\n",
    "    line_b4 = xt.Line.from_dict(dct_b4)\n",
    "\n",
    "# Build trackers\n",
    "tracker_b1 = line_b1.build_tracker()\n",
    "tracker_b4 = line_b4.build_tracker()\n",
    "\n",
    "# Build a dataframe with the elements of the lines\n",
    "df_elements_b1 = pd.DataFrame([x.to_dict() for x in line_b1.elements])\n",
    "df_elements_b4 = pd.DataFrame([x.to_dict() for x in line_b4.elements])\n",
    "\n",
    "df_elements_b1\n"
   ]
  },
  {
   "attachments": {},
   "cell_type": "markdown",
   "metadata": {},
   "source": [
    "### Get surveys and beam Twiss parameters\n"
   ]
  },
  {
   "cell_type": "code",
   "execution_count": null,
   "metadata": {},
   "outputs": [],
   "source": [
    "# Get survey dataframes\n",
    "df_sv_b1 = tracker_b1.survey().to_pandas()\n",
    "df_sv_b4 = tracker_b4.survey().to_pandas()\n",
    "\n",
    "# Get Twiss dataframes\n",
    "df_tw_b1 = tracker_b1.twiss().to_pandas()\n",
    "df_tw_b4 = tracker_b4.twiss().to_pandas()\n",
    "\n",
    "# Reverse x-axis only for beam 1\n",
    "df_sv_b1[\"X\"] = -df_sv_b1[\"X\"]\n",
    "df_tw_b1[\"x\"] = -df_tw_b1[\"x\"]\n"
   ]
  },
  {
   "attachments": {},
   "cell_type": "markdown",
   "metadata": {},
   "source": [
    "### Add missing data to the dataframes of elements due to thin lens approximation"
   ]
  },
  {
   "cell_type": "code",
   "execution_count": null,
   "metadata": {},
   "outputs": [],
   "source": [
    "def return_dataframe_corrected_for_thin_lens_approx(df_elements, df_tw):\n",
    "    df_elements_corrected = df_elements.copy(deep=True)\n",
    "\n",
    "    # Add all thin lenses (length + strength)\n",
    "    for i, row in df_tw.iterrows():\n",
    "        if \"..\" in row[\"name\"]:\n",
    "            name = row[\"name\"].split(\"..\")[0]\n",
    "            index = df_tw[df_tw.name == name].index[0]\n",
    "\n",
    "            # Add length\n",
    "            if np.isnan(df_elements_corrected.loc[index][\"length\"]):\n",
    "                df_elements_corrected.at[index, \"length\"] = 0.0\n",
    "            df_elements_corrected.at[index, \"length\"] += df_elements.loc[i][\"length\"]\n",
    "\n",
    "            # Add strength\n",
    "            if np.isnan(df_elements_corrected.loc[index][\"knl\"]).all():\n",
    "                df_elements_corrected.at[index, \"knl\"] = (\n",
    "                    np.array([0.0] * df_elements.loc[i][\"knl\"].shape[0], dtype=np.float64)\n",
    "                    if type(df_elements.loc[i][\"knl\"]) != float\n",
    "                    else 0.0\n",
    "                )\n",
    "            df_elements_corrected.at[index, \"knl\"] = (\n",
    "                df_elements_corrected.loc[index, \"knl\"] + np.array(df_elements.loc[i][\"knl\"])\n",
    "                if type(df_elements.loc[i][\"knl\"]) != float\n",
    "                else df_elements.loc[i][\"knl\"]\n",
    "            )\n",
    "\n",
    "            # Replace order\n",
    "            df_elements_corrected.at[index, \"order\"] = df_elements.loc[i][\"order\"]\n",
    "\n",
    "            # Drop row\n",
    "            df_elements_corrected.drop(i, inplace=True)\n",
    "\n",
    "    return df_elements_corrected\n",
    "\n",
    "\n",
    "df_elements_b1_corrected = return_dataframe_corrected_for_thin_lens_approx(df_elements_b1, df_tw_b1)\n",
    "df_elements_b4_corrected = return_dataframe_corrected_for_thin_lens_approx(df_elements_b4, df_tw_b4)\n",
    "df_elements_b1_corrected\n"
   ]
  },
  {
   "attachments": {},
   "cell_type": "markdown",
   "metadata": {},
   "source": [
    "### Get indices between IP8 and IP2, and IP4 and IP6\n"
   ]
  },
  {
   "cell_type": "code",
   "execution_count": null,
   "metadata": {},
   "outputs": [],
   "source": [
    "idx_ip4_b1 = df_tw_b1.loc[df_tw_b1['name'] == 'ip4'].index[0]\n",
    "idx_ip6_b1 = df_tw_b1.loc[df_tw_b1['name'] == 'ip6'].index[0]\n",
    "idx_ip8_b1 = df_tw_b1.loc[df_tw_b1['name'] == 'ip8'].index[0]\n",
    "idx_ip2_b1 = df_tw_b1.loc[df_tw_b1['name'] == 'ip2'].index[0]\n",
    "l_indices_to_keep = list(range(idx_ip4_b1,idx_ip6_b1)) + list(range(idx_ip8_b1,idx_ip2_b1))"
   ]
  },
  {
   "attachments": {},
   "cell_type": "markdown",
   "metadata": {},
   "source": [
    "### Make interactive plot for the lattice"
   ]
  },
  {
   "cell_type": "code",
   "execution_count": null,
   "metadata": {},
   "outputs": [],
   "source": [
    "fig = return_plot_lattice_with_tracking(\n",
    "    df_sv_b1,\n",
    "    df_elements_b1_corrected,\n",
    "    df_tw_b1,\n",
    "    df_sv_4 = df_sv_b4,\n",
    "    df_tw_4 = df_tw_b4,\n",
    "    l_indices_to_keep=l_indices_to_keep)\n",
    "    \n",
    "config = {'displayModeBar': True, 'displaylogo': False}\n",
    "fig.show(config=config)\n",
    "#fig.write_html(\"layout.html\")\n",
    "\n"
   ]
  },
  {
   "attachments": {},
   "cell_type": "markdown",
   "metadata": {},
   "source": [
    "### Plot phase-space dynamics in 2D"
   ]
  },
  {
   "cell_type": "code",
   "execution_count": null,
   "metadata": {},
   "outputs": [],
   "source": [
    "# Build figure\n",
    "fig = go.Figure()\n",
    "\n",
    "fig.add_trace(\n",
    "    go.Scatter(\n",
    "        x=df_tw_b1['mux'][:10000],\n",
    "        y=(df_tw_b1['x']/df_tw_b1['betx']**0.5)[:10000] ,\n",
    "        mode=\"lines\",\n",
    "        showlegend=True,\n",
    "        name = r'$\\frac{x}{\\sqrt{\\beta_x}}$',\n",
    "    )\n",
    ")\n",
    "\n",
    "fig.add_trace(\n",
    "    go.Scatter(\n",
    "        x=df_tw_b1['muy'][:10000],\n",
    "        y=(df_tw_b1['y']/df_tw_b1['bety']**0.5)[:10000],\n",
    "        mode=\"lines\",\n",
    "        showlegend=True,\n",
    "        name = r'$\\frac{y}{\\sqrt{\\beta_y}}$',\n",
    "    )\n",
    ")\n",
    "cnt = 0\n",
    "for i, row in df_ip.iterrows():\n",
    "    theta = np.pi + row[\"theta\"]\n",
    "    fig.add_trace(\n",
    "        go.Scatter(\n",
    "            mode=\"markers\",\n",
    "            x=[df_tw_b1['muy'][i] ],\n",
    "            y=[0 ],\n",
    "            marker_symbol=218,\n",
    "            marker_line_color=\"midnightblue\",\n",
    "            marker_color=\"grey\",\n",
    "            marker_line_width=2,\n",
    "            marker_size=15,\n",
    "            name=row[\"name\"],\n",
    "            showlegend=False,\n",
    "            legendgroup=\"IP\",\n",
    "        )\n",
    "    )\n",
    "    cnt+=1\n",
    "    if cnt>3:\n",
    "        break\n",
    "\n",
    "    \n",
    "\n",
    "fig.update_layout(\n",
    "    title_text=\"Transverse dynamics\",\n",
    "    title_x=0.5,\n",
    "    showlegend=True,\n",
    "    #xaxis_range=[df_sv_b1[\"X\"].min() - 1000, df_sv_b1[\"X\"].max() + 1000],\n",
    "    #yaxis_range=[df_sv_b1[\"Z\"].min() - 1000, df_sv_b1[\"Z\"].max() + 1000],\n",
    "    xaxis_showgrid=True,\n",
    "    yaxis_showgrid=True,\n",
    "    xaxis_title=r'$\\mu_{x,y}$',\n",
    "    #yaxis_title=r'$p_x$',\n",
    "    #yaxis_scaleanchor=\"x\",\n",
    "    #yaxis_scaleratio=1,\n",
    "    width=1000,\n",
    "    height=400,\n",
    "    #margin=dict(l=50, r=50, b=100, t=100, pad=4),\n",
    ")\n",
    "\n",
    "# Add range slider\n",
    "fig.update_layout(\n",
    "    xaxis=dict(\n",
    "        rangeslider=dict(\n",
    "            visible=True\n",
    "        ),\n",
    "        type=\"linear\",\n",
    "        range = (10,20),\n",
    "    )\n",
    ")\n",
    "\n",
    "config = {'displayModeBar': False}\n",
    "fig.show(config=config)\n",
    "\n"
   ]
  },
  {
   "cell_type": "code",
   "execution_count": null,
   "metadata": {},
   "outputs": [],
   "source": []
  },
  {
   "cell_type": "code",
   "execution_count": 8,
   "metadata": {},
   "outputs": [],
   "source": [
    "import plotly.graph_objects as go\n",
    "\n",
    "import networkx as nx\n",
    "\n",
    "G = nx.random_geometric_graph(20, 0.5)\n",
    "\n",
    "\n",
    "\n",
    "edge_x = []\n",
    "edge_y = []\n",
    "for edge in G.edges():\n",
    "    x0, y0 = G.nodes[edge[0]]['pos']\n",
    "    x1, y1 = G.nodes[edge[1]]['pos']\n",
    "    edge_x.append(x0)\n",
    "    edge_x.append(x1)\n",
    "    edge_x.append(None)\n",
    "    edge_y.append(y0)\n",
    "    edge_y.append(y1)\n",
    "    edge_y.append(None)\n",
    "\n",
    "edge_trace = go.Scatter(\n",
    "    x=edge_x, y=edge_y,\n",
    "    line=dict(width=0.5, color='#888'),\n",
    "    hoverinfo='none',\n",
    "    mode='lines')\n",
    "\n",
    "node_x = []\n",
    "node_y = []\n",
    "for node in G.nodes():\n",
    "    x, y = G.nodes[node]['pos']\n",
    "    node_x.append(x)\n",
    "    node_y.append(y)\n",
    "\n",
    "node_trace = go.Scatter(\n",
    "    x=node_x, y=node_y,\n",
    "    mode='markers',\n",
    "    hoverinfo='text',\n",
    "    marker=dict(\n",
    "        showscale=True,\n",
    "        # colorscale options\n",
    "        #'Greys' | 'YlGnBu' | 'Greens' | 'YlOrRd' | 'Bluered' | 'RdBu' |\n",
    "        #'Reds' | 'Blues' | 'Picnic' | 'Rainbow' | 'Portland' | 'Jet' |\n",
    "        #'Hot' | 'Blackbody' | 'Earth' | 'Electric' | 'Viridis' |\n",
    "        colorscale='YlGnBu',\n",
    "        reversescale=True,\n",
    "        color=[],\n",
    "        size=10,\n",
    "        colorbar=dict(\n",
    "            thickness=15,\n",
    "            title='Node Connections',\n",
    "            xanchor='left',\n",
    "            titleside='right'\n",
    "        ),\n",
    "        line_width=2))\n",
    "\n",
    "\n",
    "node_adjacencies = []\n",
    "node_text = []\n",
    "for node, adjacencies in enumerate(G.adjacency()):\n",
    "    node_adjacencies.append(len(adjacencies[1]))\n",
    "    node_text.append('# of connections: '+str(len(adjacencies[1])))\n",
    "\n",
    "node_trace.marker.color = node_adjacencies\n",
    "node_trace.text = node_text"
   ]
  },
  {
   "cell_type": "code",
   "execution_count": 11,
   "metadata": {},
   "outputs": [
    {
     "data": {
      "application/vnd.plotly.v1+json": {
       "config": {
        "plotlyServerURL": "https://plot.ly"
       },
       "data": [
        {
         "hoverinfo": "none",
         "line": {
          "color": "#888",
          "width": 0.5
         },
         "mode": "lines",
         "type": "scatter",
         "x": [
          0.9203178625527391,
          0.5973055757387452,
          null,
          0.9203178625527391,
          0.7531357962610394,
          null,
          0.9203178625527391,
          0.7253746960232852,
          null,
          0.9203178625527391,
          0.7556763314842607,
          null,
          0.9203178625527391,
          0.5209902479562298,
          null,
          0.9203178625527391,
          0.8567674484831088,
          null,
          0.9203178625527391,
          0.5393692839412741,
          null,
          0.9203178625527391,
          0.654612195125851,
          null,
          0.5569554436488015,
          0.09458206640797795,
          null,
          0.5569554436488015,
          0.7253746960232852,
          null,
          0.5569554436488015,
          0.19111864801689626,
          null,
          0.5569554436488015,
          0.16605031008341087,
          null,
          0.5569554436488015,
          0.7725464114553667,
          null,
          0.5569554436488015,
          0.5393692839412741,
          null,
          0.5569554436488015,
          0.21229895103067042,
          null,
          0.5973055757387452,
          0.7531357962610394,
          null,
          0.5973055757387452,
          0.7253746960232852,
          null,
          0.5973055757387452,
          0.7556763314842607,
          null,
          0.5973055757387452,
          0.5209902479562298,
          null,
          0.5973055757387452,
          0.17149611656379848,
          null,
          0.5973055757387452,
          0.8567674484831088,
          null,
          0.5973055757387452,
          0.5393692839412741,
          null,
          0.5973055757387452,
          0.654612195125851,
          null,
          0.5973055757387452,
          0.5638228541052733,
          null,
          0.7531357962610394,
          0.7253746960232852,
          null,
          0.7531357962610394,
          0.7556763314842607,
          null,
          0.7531357962610394,
          0.5209902479562298,
          null,
          0.7531357962610394,
          0.8567674484831088,
          null,
          0.7531357962610394,
          0.5393692839412741,
          null,
          0.7531357962610394,
          0.654612195125851,
          null,
          0.7531357962610394,
          0.5638228541052733,
          null,
          0.09458206640797795,
          0.19111864801689626,
          null,
          0.09458206640797795,
          0.16605031008341087,
          null,
          0.09458206640797795,
          0.11552425209396688,
          null,
          0.09458206640797795,
          0.1400058485839205,
          null,
          0.09458206640797795,
          0.21229895103067042,
          null,
          0.7253746960232852,
          0.7556763314842607,
          null,
          0.7253746960232852,
          0.5209902479562298,
          null,
          0.7253746960232852,
          0.7725464114553667,
          null,
          0.7253746960232852,
          0.8567674484831088,
          null,
          0.7253746960232852,
          0.5393692839412741,
          null,
          0.7253746960232852,
          0.654612195125851,
          null,
          0.7556763314842607,
          0.5209902479562298,
          null,
          0.7556763314842607,
          0.8567674484831088,
          null,
          0.7556763314842607,
          0.5393692839412741,
          null,
          0.7556763314842607,
          0.654612195125851,
          null,
          0.7556763314842607,
          0.5638228541052733,
          null,
          0.19111864801689626,
          0.16605031008341087,
          null,
          0.19111864801689626,
          0.11552425209396688,
          null,
          0.19111864801689626,
          0.1400058485839205,
          null,
          0.19111864801689626,
          0.5393692839412741,
          null,
          0.19111864801689626,
          0.21229895103067042,
          null,
          0.5209902479562298,
          0.17149611656379848,
          null,
          0.5209902479562298,
          0.8567674484831088,
          null,
          0.5209902479562298,
          0.5393692839412741,
          null,
          0.5209902479562298,
          0.654612195125851,
          null,
          0.5209902479562298,
          0.5638228541052733,
          null,
          0.16605031008341087,
          0.11552425209396688,
          null,
          0.16605031008341087,
          0.1400058485839205,
          null,
          0.16605031008341087,
          0.5393692839412741,
          null,
          0.16605031008341087,
          0.21229895103067042,
          null,
          0.17149611656379848,
          0.11552425209396688,
          null,
          0.17149611656379848,
          0.1400058485839205,
          null,
          0.17149611656379848,
          0.003566174436523961,
          null,
          0.17149611656379848,
          0.654612195125851,
          null,
          0.17149611656379848,
          0.5638228541052733,
          null,
          0.17149611656379848,
          0.21229895103067042,
          null,
          0.11552425209396688,
          0.1400058485839205,
          null,
          0.11552425209396688,
          0.003566174436523961,
          null,
          0.11552425209396688,
          0.5393692839412741,
          null,
          0.11552425209396688,
          0.21229895103067042,
          null,
          0.1400058485839205,
          0.003566174436523961,
          null,
          0.1400058485839205,
          0.5393692839412741,
          null,
          0.1400058485839205,
          0.21229895103067042,
          null,
          0.7725464114553667,
          0.5393692839412741,
          null,
          0.8567674484831088,
          0.654612195125851,
          null,
          0.8567674484831088,
          0.5638228541052733,
          null,
          0.5393692839412741,
          0.654612195125851,
          null,
          0.5393692839412741,
          0.21229895103067042,
          null,
          0.654612195125851,
          0.5638228541052733,
          null
         ],
         "y": [
          0.5664035225499634,
          0.882480215919919,
          null,
          0.5664035225499634,
          0.822325187149463,
          null,
          0.5664035225499634,
          0.4319117348977545,
          null,
          0.5664035225499634,
          0.6050075312322882,
          null,
          0.5664035225499634,
          0.7476007966671308,
          null,
          0.5664035225499634,
          0.8001814015411014,
          null,
          0.5664035225499634,
          0.3941643042590228,
          null,
          0.5664035225499634,
          0.7487372705449759,
          null,
          0.024074926510134542,
          0.11408836422817226,
          null,
          0.024074926510134542,
          0.4319117348977545,
          null,
          0.024074926510134542,
          0.03879866896414108,
          null,
          0.024074926510134542,
          0.14041914701366653,
          null,
          0.024074926510134542,
          0.06198214956602688,
          null,
          0.024074926510134542,
          0.3941643042590228,
          null,
          0.024074926510134542,
          0.2962195119901445,
          null,
          0.882480215919919,
          0.822325187149463,
          null,
          0.882480215919919,
          0.4319117348977545,
          null,
          0.882480215919919,
          0.6050075312322882,
          null,
          0.882480215919919,
          0.7476007966671308,
          null,
          0.882480215919919,
          0.785670906499177,
          null,
          0.882480215919919,
          0.8001814015411014,
          null,
          0.882480215919919,
          0.3941643042590228,
          null,
          0.882480215919919,
          0.7487372705449759,
          null,
          0.882480215919919,
          0.9973826089750809,
          null,
          0.822325187149463,
          0.4319117348977545,
          null,
          0.822325187149463,
          0.6050075312322882,
          null,
          0.822325187149463,
          0.7476007966671308,
          null,
          0.822325187149463,
          0.8001814015411014,
          null,
          0.822325187149463,
          0.3941643042590228,
          null,
          0.822325187149463,
          0.7487372705449759,
          null,
          0.822325187149463,
          0.9973826089750809,
          null,
          0.11408836422817226,
          0.03879866896414108,
          null,
          0.11408836422817226,
          0.14041914701366653,
          null,
          0.11408836422817226,
          0.3232428853581445,
          null,
          0.11408836422817226,
          0.34754863628331334,
          null,
          0.11408836422817226,
          0.2962195119901445,
          null,
          0.4319117348977545,
          0.6050075312322882,
          null,
          0.4319117348977545,
          0.7476007966671308,
          null,
          0.4319117348977545,
          0.06198214956602688,
          null,
          0.4319117348977545,
          0.8001814015411014,
          null,
          0.4319117348977545,
          0.3941643042590228,
          null,
          0.4319117348977545,
          0.7487372705449759,
          null,
          0.6050075312322882,
          0.7476007966671308,
          null,
          0.6050075312322882,
          0.8001814015411014,
          null,
          0.6050075312322882,
          0.3941643042590228,
          null,
          0.6050075312322882,
          0.7487372705449759,
          null,
          0.6050075312322882,
          0.9973826089750809,
          null,
          0.03879866896414108,
          0.14041914701366653,
          null,
          0.03879866896414108,
          0.3232428853581445,
          null,
          0.03879866896414108,
          0.34754863628331334,
          null,
          0.03879866896414108,
          0.3941643042590228,
          null,
          0.03879866896414108,
          0.2962195119901445,
          null,
          0.7476007966671308,
          0.785670906499177,
          null,
          0.7476007966671308,
          0.8001814015411014,
          null,
          0.7476007966671308,
          0.3941643042590228,
          null,
          0.7476007966671308,
          0.7487372705449759,
          null,
          0.7476007966671308,
          0.9973826089750809,
          null,
          0.14041914701366653,
          0.3232428853581445,
          null,
          0.14041914701366653,
          0.34754863628331334,
          null,
          0.14041914701366653,
          0.3941643042590228,
          null,
          0.14041914701366653,
          0.2962195119901445,
          null,
          0.785670906499177,
          0.3232428853581445,
          null,
          0.785670906499177,
          0.34754863628331334,
          null,
          0.785670906499177,
          0.8050183965987465,
          null,
          0.785670906499177,
          0.7487372705449759,
          null,
          0.785670906499177,
          0.9973826089750809,
          null,
          0.785670906499177,
          0.2962195119901445,
          null,
          0.3232428853581445,
          0.34754863628331334,
          null,
          0.3232428853581445,
          0.8050183965987465,
          null,
          0.3232428853581445,
          0.3941643042590228,
          null,
          0.3232428853581445,
          0.2962195119901445,
          null,
          0.34754863628331334,
          0.8050183965987465,
          null,
          0.34754863628331334,
          0.3941643042590228,
          null,
          0.34754863628331334,
          0.2962195119901445,
          null,
          0.06198214956602688,
          0.3941643042590228,
          null,
          0.8001814015411014,
          0.7487372705449759,
          null,
          0.8001814015411014,
          0.9973826089750809,
          null,
          0.3941643042590228,
          0.7487372705449759,
          null,
          0.3941643042590228,
          0.2962195119901445,
          null,
          0.7487372705449759,
          0.9973826089750809,
          null
         ]
        },
        {
         "hoverinfo": "text",
         "marker": {
          "color": [
           8,
           7,
           10,
           9,
           6,
           10,
           9,
           7,
           10,
           7,
           8,
           8,
           8,
           3,
           3,
           8,
           14,
           10,
           7,
           8
          ],
          "colorbar": {
           "thickness": 15,
           "title": {
            "side": "right",
            "text": "Node Connections"
           },
           "xanchor": "left"
          },
          "colorscale": [
           [
            0,
            "rgb(255,255,217)"
           ],
           [
            0.125,
            "rgb(237,248,177)"
           ],
           [
            0.25,
            "rgb(199,233,180)"
           ],
           [
            0.375,
            "rgb(127,205,187)"
           ],
           [
            0.5,
            "rgb(65,182,196)"
           ],
           [
            0.625,
            "rgb(29,145,192)"
           ],
           [
            0.75,
            "rgb(34,94,168)"
           ],
           [
            0.875,
            "rgb(37,52,148)"
           ],
           [
            1,
            "rgb(8,29,88)"
           ]
          ],
          "line": {
           "width": 2
          },
          "reversescale": true,
          "showscale": true,
          "size": 10
         },
         "mode": "markers",
         "text": [
          "# of connections: 8",
          "# of connections: 7",
          "# of connections: 10",
          "# of connections: 9",
          "# of connections: 6",
          "# of connections: 10",
          "# of connections: 9",
          "# of connections: 7",
          "# of connections: 10",
          "# of connections: 7",
          "# of connections: 8",
          "# of connections: 8",
          "# of connections: 8",
          "# of connections: 3",
          "# of connections: 3",
          "# of connections: 8",
          "# of connections: 14",
          "# of connections: 10",
          "# of connections: 7",
          "# of connections: 8"
         ],
         "type": "scatter",
         "x": [
          0.9203178625527391,
          0.5569554436488015,
          0.5973055757387452,
          0.7531357962610394,
          0.09458206640797795,
          0.7253746960232852,
          0.7556763314842607,
          0.19111864801689626,
          0.5209902479562298,
          0.16605031008341087,
          0.17149611656379848,
          0.11552425209396688,
          0.1400058485839205,
          0.7725464114553667,
          0.003566174436523961,
          0.8567674484831088,
          0.5393692839412741,
          0.654612195125851,
          0.5638228541052733,
          0.21229895103067042
         ],
         "y": [
          0.5664035225499634,
          0.024074926510134542,
          0.882480215919919,
          0.822325187149463,
          0.11408836422817226,
          0.4319117348977545,
          0.6050075312322882,
          0.03879866896414108,
          0.7476007966671308,
          0.14041914701366653,
          0.785670906499177,
          0.3232428853581445,
          0.34754863628331334,
          0.06198214956602688,
          0.8050183965987465,
          0.8001814015411014,
          0.3941643042590228,
          0.7487372705449759,
          0.9973826089750809,
          0.2962195119901445
         ]
        }
       ],
       "layout": {
        "annotations": [
         {
          "showarrow": true,
          "text": "Python code: <a href='https://plotly.com/ipython-notebooks/network-graphs/'> https://plotly.com/ipython-notebooks/network-graphs/</a>",
          "x": 0.005,
          "xref": "paper",
          "y": -0.002,
          "yref": "paper"
         }
        ],
        "hovermode": "closest",
        "margin": {
         "b": 20,
         "l": 5,
         "r": 5,
         "t": 40
        },
        "showlegend": false,
        "template": {
         "data": {
          "bar": [
           {
            "error_x": {
             "color": "#2a3f5f"
            },
            "error_y": {
             "color": "#2a3f5f"
            },
            "marker": {
             "line": {
              "color": "#E5ECF6",
              "width": 0.5
             },
             "pattern": {
              "fillmode": "overlay",
              "size": 10,
              "solidity": 0.2
             }
            },
            "type": "bar"
           }
          ],
          "barpolar": [
           {
            "marker": {
             "line": {
              "color": "#E5ECF6",
              "width": 0.5
             },
             "pattern": {
              "fillmode": "overlay",
              "size": 10,
              "solidity": 0.2
             }
            },
            "type": "barpolar"
           }
          ],
          "carpet": [
           {
            "aaxis": {
             "endlinecolor": "#2a3f5f",
             "gridcolor": "white",
             "linecolor": "white",
             "minorgridcolor": "white",
             "startlinecolor": "#2a3f5f"
            },
            "baxis": {
             "endlinecolor": "#2a3f5f",
             "gridcolor": "white",
             "linecolor": "white",
             "minorgridcolor": "white",
             "startlinecolor": "#2a3f5f"
            },
            "type": "carpet"
           }
          ],
          "choropleth": [
           {
            "colorbar": {
             "outlinewidth": 0,
             "ticks": ""
            },
            "type": "choropleth"
           }
          ],
          "contour": [
           {
            "colorbar": {
             "outlinewidth": 0,
             "ticks": ""
            },
            "colorscale": [
             [
              0,
              "#0d0887"
             ],
             [
              0.1111111111111111,
              "#46039f"
             ],
             [
              0.2222222222222222,
              "#7201a8"
             ],
             [
              0.3333333333333333,
              "#9c179e"
             ],
             [
              0.4444444444444444,
              "#bd3786"
             ],
             [
              0.5555555555555556,
              "#d8576b"
             ],
             [
              0.6666666666666666,
              "#ed7953"
             ],
             [
              0.7777777777777778,
              "#fb9f3a"
             ],
             [
              0.8888888888888888,
              "#fdca26"
             ],
             [
              1,
              "#f0f921"
             ]
            ],
            "type": "contour"
           }
          ],
          "contourcarpet": [
           {
            "colorbar": {
             "outlinewidth": 0,
             "ticks": ""
            },
            "type": "contourcarpet"
           }
          ],
          "heatmap": [
           {
            "colorbar": {
             "outlinewidth": 0,
             "ticks": ""
            },
            "colorscale": [
             [
              0,
              "#0d0887"
             ],
             [
              0.1111111111111111,
              "#46039f"
             ],
             [
              0.2222222222222222,
              "#7201a8"
             ],
             [
              0.3333333333333333,
              "#9c179e"
             ],
             [
              0.4444444444444444,
              "#bd3786"
             ],
             [
              0.5555555555555556,
              "#d8576b"
             ],
             [
              0.6666666666666666,
              "#ed7953"
             ],
             [
              0.7777777777777778,
              "#fb9f3a"
             ],
             [
              0.8888888888888888,
              "#fdca26"
             ],
             [
              1,
              "#f0f921"
             ]
            ],
            "type": "heatmap"
           }
          ],
          "heatmapgl": [
           {
            "colorbar": {
             "outlinewidth": 0,
             "ticks": ""
            },
            "colorscale": [
             [
              0,
              "#0d0887"
             ],
             [
              0.1111111111111111,
              "#46039f"
             ],
             [
              0.2222222222222222,
              "#7201a8"
             ],
             [
              0.3333333333333333,
              "#9c179e"
             ],
             [
              0.4444444444444444,
              "#bd3786"
             ],
             [
              0.5555555555555556,
              "#d8576b"
             ],
             [
              0.6666666666666666,
              "#ed7953"
             ],
             [
              0.7777777777777778,
              "#fb9f3a"
             ],
             [
              0.8888888888888888,
              "#fdca26"
             ],
             [
              1,
              "#f0f921"
             ]
            ],
            "type": "heatmapgl"
           }
          ],
          "histogram": [
           {
            "marker": {
             "pattern": {
              "fillmode": "overlay",
              "size": 10,
              "solidity": 0.2
             }
            },
            "type": "histogram"
           }
          ],
          "histogram2d": [
           {
            "colorbar": {
             "outlinewidth": 0,
             "ticks": ""
            },
            "colorscale": [
             [
              0,
              "#0d0887"
             ],
             [
              0.1111111111111111,
              "#46039f"
             ],
             [
              0.2222222222222222,
              "#7201a8"
             ],
             [
              0.3333333333333333,
              "#9c179e"
             ],
             [
              0.4444444444444444,
              "#bd3786"
             ],
             [
              0.5555555555555556,
              "#d8576b"
             ],
             [
              0.6666666666666666,
              "#ed7953"
             ],
             [
              0.7777777777777778,
              "#fb9f3a"
             ],
             [
              0.8888888888888888,
              "#fdca26"
             ],
             [
              1,
              "#f0f921"
             ]
            ],
            "type": "histogram2d"
           }
          ],
          "histogram2dcontour": [
           {
            "colorbar": {
             "outlinewidth": 0,
             "ticks": ""
            },
            "colorscale": [
             [
              0,
              "#0d0887"
             ],
             [
              0.1111111111111111,
              "#46039f"
             ],
             [
              0.2222222222222222,
              "#7201a8"
             ],
             [
              0.3333333333333333,
              "#9c179e"
             ],
             [
              0.4444444444444444,
              "#bd3786"
             ],
             [
              0.5555555555555556,
              "#d8576b"
             ],
             [
              0.6666666666666666,
              "#ed7953"
             ],
             [
              0.7777777777777778,
              "#fb9f3a"
             ],
             [
              0.8888888888888888,
              "#fdca26"
             ],
             [
              1,
              "#f0f921"
             ]
            ],
            "type": "histogram2dcontour"
           }
          ],
          "mesh3d": [
           {
            "colorbar": {
             "outlinewidth": 0,
             "ticks": ""
            },
            "type": "mesh3d"
           }
          ],
          "parcoords": [
           {
            "line": {
             "colorbar": {
              "outlinewidth": 0,
              "ticks": ""
             }
            },
            "type": "parcoords"
           }
          ],
          "pie": [
           {
            "automargin": true,
            "type": "pie"
           }
          ],
          "scatter": [
           {
            "fillpattern": {
             "fillmode": "overlay",
             "size": 10,
             "solidity": 0.2
            },
            "type": "scatter"
           }
          ],
          "scatter3d": [
           {
            "line": {
             "colorbar": {
              "outlinewidth": 0,
              "ticks": ""
             }
            },
            "marker": {
             "colorbar": {
              "outlinewidth": 0,
              "ticks": ""
             }
            },
            "type": "scatter3d"
           }
          ],
          "scattercarpet": [
           {
            "marker": {
             "colorbar": {
              "outlinewidth": 0,
              "ticks": ""
             }
            },
            "type": "scattercarpet"
           }
          ],
          "scattergeo": [
           {
            "marker": {
             "colorbar": {
              "outlinewidth": 0,
              "ticks": ""
             }
            },
            "type": "scattergeo"
           }
          ],
          "scattergl": [
           {
            "marker": {
             "colorbar": {
              "outlinewidth": 0,
              "ticks": ""
             }
            },
            "type": "scattergl"
           }
          ],
          "scattermapbox": [
           {
            "marker": {
             "colorbar": {
              "outlinewidth": 0,
              "ticks": ""
             }
            },
            "type": "scattermapbox"
           }
          ],
          "scatterpolar": [
           {
            "marker": {
             "colorbar": {
              "outlinewidth": 0,
              "ticks": ""
             }
            },
            "type": "scatterpolar"
           }
          ],
          "scatterpolargl": [
           {
            "marker": {
             "colorbar": {
              "outlinewidth": 0,
              "ticks": ""
             }
            },
            "type": "scatterpolargl"
           }
          ],
          "scatterternary": [
           {
            "marker": {
             "colorbar": {
              "outlinewidth": 0,
              "ticks": ""
             }
            },
            "type": "scatterternary"
           }
          ],
          "surface": [
           {
            "colorbar": {
             "outlinewidth": 0,
             "ticks": ""
            },
            "colorscale": [
             [
              0,
              "#0d0887"
             ],
             [
              0.1111111111111111,
              "#46039f"
             ],
             [
              0.2222222222222222,
              "#7201a8"
             ],
             [
              0.3333333333333333,
              "#9c179e"
             ],
             [
              0.4444444444444444,
              "#bd3786"
             ],
             [
              0.5555555555555556,
              "#d8576b"
             ],
             [
              0.6666666666666666,
              "#ed7953"
             ],
             [
              0.7777777777777778,
              "#fb9f3a"
             ],
             [
              0.8888888888888888,
              "#fdca26"
             ],
             [
              1,
              "#f0f921"
             ]
            ],
            "type": "surface"
           }
          ],
          "table": [
           {
            "cells": {
             "fill": {
              "color": "#EBF0F8"
             },
             "line": {
              "color": "white"
             }
            },
            "header": {
             "fill": {
              "color": "#C8D4E3"
             },
             "line": {
              "color": "white"
             }
            },
            "type": "table"
           }
          ]
         },
         "layout": {
          "annotationdefaults": {
           "arrowcolor": "#2a3f5f",
           "arrowhead": 0,
           "arrowwidth": 1
          },
          "autotypenumbers": "strict",
          "coloraxis": {
           "colorbar": {
            "outlinewidth": 0,
            "ticks": ""
           }
          },
          "colorscale": {
           "diverging": [
            [
             0,
             "#8e0152"
            ],
            [
             0.1,
             "#c51b7d"
            ],
            [
             0.2,
             "#de77ae"
            ],
            [
             0.3,
             "#f1b6da"
            ],
            [
             0.4,
             "#fde0ef"
            ],
            [
             0.5,
             "#f7f7f7"
            ],
            [
             0.6,
             "#e6f5d0"
            ],
            [
             0.7,
             "#b8e186"
            ],
            [
             0.8,
             "#7fbc41"
            ],
            [
             0.9,
             "#4d9221"
            ],
            [
             1,
             "#276419"
            ]
           ],
           "sequential": [
            [
             0,
             "#0d0887"
            ],
            [
             0.1111111111111111,
             "#46039f"
            ],
            [
             0.2222222222222222,
             "#7201a8"
            ],
            [
             0.3333333333333333,
             "#9c179e"
            ],
            [
             0.4444444444444444,
             "#bd3786"
            ],
            [
             0.5555555555555556,
             "#d8576b"
            ],
            [
             0.6666666666666666,
             "#ed7953"
            ],
            [
             0.7777777777777778,
             "#fb9f3a"
            ],
            [
             0.8888888888888888,
             "#fdca26"
            ],
            [
             1,
             "#f0f921"
            ]
           ],
           "sequentialminus": [
            [
             0,
             "#0d0887"
            ],
            [
             0.1111111111111111,
             "#46039f"
            ],
            [
             0.2222222222222222,
             "#7201a8"
            ],
            [
             0.3333333333333333,
             "#9c179e"
            ],
            [
             0.4444444444444444,
             "#bd3786"
            ],
            [
             0.5555555555555556,
             "#d8576b"
            ],
            [
             0.6666666666666666,
             "#ed7953"
            ],
            [
             0.7777777777777778,
             "#fb9f3a"
            ],
            [
             0.8888888888888888,
             "#fdca26"
            ],
            [
             1,
             "#f0f921"
            ]
           ]
          },
          "colorway": [
           "#636efa",
           "#EF553B",
           "#00cc96",
           "#ab63fa",
           "#FFA15A",
           "#19d3f3",
           "#FF6692",
           "#B6E880",
           "#FF97FF",
           "#FECB52"
          ],
          "font": {
           "color": "#2a3f5f"
          },
          "geo": {
           "bgcolor": "white",
           "lakecolor": "white",
           "landcolor": "#E5ECF6",
           "showlakes": true,
           "showland": true,
           "subunitcolor": "white"
          },
          "hoverlabel": {
           "align": "left"
          },
          "hovermode": "closest",
          "mapbox": {
           "style": "light"
          },
          "paper_bgcolor": "white",
          "plot_bgcolor": "#E5ECF6",
          "polar": {
           "angularaxis": {
            "gridcolor": "white",
            "linecolor": "white",
            "ticks": ""
           },
           "bgcolor": "#E5ECF6",
           "radialaxis": {
            "gridcolor": "white",
            "linecolor": "white",
            "ticks": ""
           }
          },
          "scene": {
           "xaxis": {
            "backgroundcolor": "#E5ECF6",
            "gridcolor": "white",
            "gridwidth": 2,
            "linecolor": "white",
            "showbackground": true,
            "ticks": "",
            "zerolinecolor": "white"
           },
           "yaxis": {
            "backgroundcolor": "#E5ECF6",
            "gridcolor": "white",
            "gridwidth": 2,
            "linecolor": "white",
            "showbackground": true,
            "ticks": "",
            "zerolinecolor": "white"
           },
           "zaxis": {
            "backgroundcolor": "#E5ECF6",
            "gridcolor": "white",
            "gridwidth": 2,
            "linecolor": "white",
            "showbackground": true,
            "ticks": "",
            "zerolinecolor": "white"
           }
          },
          "shapedefaults": {
           "line": {
            "color": "#2a3f5f"
           }
          },
          "ternary": {
           "aaxis": {
            "gridcolor": "white",
            "linecolor": "white",
            "ticks": ""
           },
           "baxis": {
            "gridcolor": "white",
            "linecolor": "white",
            "ticks": ""
           },
           "bgcolor": "#E5ECF6",
           "caxis": {
            "gridcolor": "white",
            "linecolor": "white",
            "ticks": ""
           }
          },
          "title": {
           "x": 0.05
          },
          "xaxis": {
           "automargin": true,
           "gridcolor": "white",
           "linecolor": "white",
           "ticks": "",
           "title": {
            "standoff": 15
           },
           "zerolinecolor": "white",
           "zerolinewidth": 2
          },
          "yaxis": {
           "automargin": true,
           "gridcolor": "white",
           "linecolor": "white",
           "ticks": "",
           "title": {
            "standoff": 15
           },
           "zerolinecolor": "white",
           "zerolinewidth": 2
          }
         }
        },
        "title": {
         "font": {
          "size": 16
         },
         "text": "<br>Network graph made with Python"
        },
        "xaxis": {
         "showgrid": false,
         "showticklabels": false,
         "zeroline": false
        },
        "yaxis": {
         "showgrid": false,
         "showticklabels": false,
         "zeroline": false
        }
       }
      },
      "text/html": [
       "<div>                            <div id=\"8f397443-108d-4030-b0df-1ba2af3037f8\" class=\"plotly-graph-div\" style=\"height:525px; width:100%;\"></div>            <script type=\"text/javascript\">                require([\"plotly\"], function(Plotly) {                    window.PLOTLYENV=window.PLOTLYENV || {};                                    if (document.getElementById(\"8f397443-108d-4030-b0df-1ba2af3037f8\")) {                    Plotly.newPlot(                        \"8f397443-108d-4030-b0df-1ba2af3037f8\",                        [{\"hoverinfo\":\"none\",\"line\":{\"color\":\"#888\",\"width\":0.5},\"mode\":\"lines\",\"x\":[0.9203178625527391,0.5973055757387452,null,0.9203178625527391,0.7531357962610394,null,0.9203178625527391,0.7253746960232852,null,0.9203178625527391,0.7556763314842607,null,0.9203178625527391,0.5209902479562298,null,0.9203178625527391,0.8567674484831088,null,0.9203178625527391,0.5393692839412741,null,0.9203178625527391,0.654612195125851,null,0.5569554436488015,0.09458206640797795,null,0.5569554436488015,0.7253746960232852,null,0.5569554436488015,0.19111864801689626,null,0.5569554436488015,0.16605031008341087,null,0.5569554436488015,0.7725464114553667,null,0.5569554436488015,0.5393692839412741,null,0.5569554436488015,0.21229895103067042,null,0.5973055757387452,0.7531357962610394,null,0.5973055757387452,0.7253746960232852,null,0.5973055757387452,0.7556763314842607,null,0.5973055757387452,0.5209902479562298,null,0.5973055757387452,0.17149611656379848,null,0.5973055757387452,0.8567674484831088,null,0.5973055757387452,0.5393692839412741,null,0.5973055757387452,0.654612195125851,null,0.5973055757387452,0.5638228541052733,null,0.7531357962610394,0.7253746960232852,null,0.7531357962610394,0.7556763314842607,null,0.7531357962610394,0.5209902479562298,null,0.7531357962610394,0.8567674484831088,null,0.7531357962610394,0.5393692839412741,null,0.7531357962610394,0.654612195125851,null,0.7531357962610394,0.5638228541052733,null,0.09458206640797795,0.19111864801689626,null,0.09458206640797795,0.16605031008341087,null,0.09458206640797795,0.11552425209396688,null,0.09458206640797795,0.1400058485839205,null,0.09458206640797795,0.21229895103067042,null,0.7253746960232852,0.7556763314842607,null,0.7253746960232852,0.5209902479562298,null,0.7253746960232852,0.7725464114553667,null,0.7253746960232852,0.8567674484831088,null,0.7253746960232852,0.5393692839412741,null,0.7253746960232852,0.654612195125851,null,0.7556763314842607,0.5209902479562298,null,0.7556763314842607,0.8567674484831088,null,0.7556763314842607,0.5393692839412741,null,0.7556763314842607,0.654612195125851,null,0.7556763314842607,0.5638228541052733,null,0.19111864801689626,0.16605031008341087,null,0.19111864801689626,0.11552425209396688,null,0.19111864801689626,0.1400058485839205,null,0.19111864801689626,0.5393692839412741,null,0.19111864801689626,0.21229895103067042,null,0.5209902479562298,0.17149611656379848,null,0.5209902479562298,0.8567674484831088,null,0.5209902479562298,0.5393692839412741,null,0.5209902479562298,0.654612195125851,null,0.5209902479562298,0.5638228541052733,null,0.16605031008341087,0.11552425209396688,null,0.16605031008341087,0.1400058485839205,null,0.16605031008341087,0.5393692839412741,null,0.16605031008341087,0.21229895103067042,null,0.17149611656379848,0.11552425209396688,null,0.17149611656379848,0.1400058485839205,null,0.17149611656379848,0.003566174436523961,null,0.17149611656379848,0.654612195125851,null,0.17149611656379848,0.5638228541052733,null,0.17149611656379848,0.21229895103067042,null,0.11552425209396688,0.1400058485839205,null,0.11552425209396688,0.003566174436523961,null,0.11552425209396688,0.5393692839412741,null,0.11552425209396688,0.21229895103067042,null,0.1400058485839205,0.003566174436523961,null,0.1400058485839205,0.5393692839412741,null,0.1400058485839205,0.21229895103067042,null,0.7725464114553667,0.5393692839412741,null,0.8567674484831088,0.654612195125851,null,0.8567674484831088,0.5638228541052733,null,0.5393692839412741,0.654612195125851,null,0.5393692839412741,0.21229895103067042,null,0.654612195125851,0.5638228541052733,null],\"y\":[0.5664035225499634,0.882480215919919,null,0.5664035225499634,0.822325187149463,null,0.5664035225499634,0.4319117348977545,null,0.5664035225499634,0.6050075312322882,null,0.5664035225499634,0.7476007966671308,null,0.5664035225499634,0.8001814015411014,null,0.5664035225499634,0.3941643042590228,null,0.5664035225499634,0.7487372705449759,null,0.024074926510134542,0.11408836422817226,null,0.024074926510134542,0.4319117348977545,null,0.024074926510134542,0.03879866896414108,null,0.024074926510134542,0.14041914701366653,null,0.024074926510134542,0.06198214956602688,null,0.024074926510134542,0.3941643042590228,null,0.024074926510134542,0.2962195119901445,null,0.882480215919919,0.822325187149463,null,0.882480215919919,0.4319117348977545,null,0.882480215919919,0.6050075312322882,null,0.882480215919919,0.7476007966671308,null,0.882480215919919,0.785670906499177,null,0.882480215919919,0.8001814015411014,null,0.882480215919919,0.3941643042590228,null,0.882480215919919,0.7487372705449759,null,0.882480215919919,0.9973826089750809,null,0.822325187149463,0.4319117348977545,null,0.822325187149463,0.6050075312322882,null,0.822325187149463,0.7476007966671308,null,0.822325187149463,0.8001814015411014,null,0.822325187149463,0.3941643042590228,null,0.822325187149463,0.7487372705449759,null,0.822325187149463,0.9973826089750809,null,0.11408836422817226,0.03879866896414108,null,0.11408836422817226,0.14041914701366653,null,0.11408836422817226,0.3232428853581445,null,0.11408836422817226,0.34754863628331334,null,0.11408836422817226,0.2962195119901445,null,0.4319117348977545,0.6050075312322882,null,0.4319117348977545,0.7476007966671308,null,0.4319117348977545,0.06198214956602688,null,0.4319117348977545,0.8001814015411014,null,0.4319117348977545,0.3941643042590228,null,0.4319117348977545,0.7487372705449759,null,0.6050075312322882,0.7476007966671308,null,0.6050075312322882,0.8001814015411014,null,0.6050075312322882,0.3941643042590228,null,0.6050075312322882,0.7487372705449759,null,0.6050075312322882,0.9973826089750809,null,0.03879866896414108,0.14041914701366653,null,0.03879866896414108,0.3232428853581445,null,0.03879866896414108,0.34754863628331334,null,0.03879866896414108,0.3941643042590228,null,0.03879866896414108,0.2962195119901445,null,0.7476007966671308,0.785670906499177,null,0.7476007966671308,0.8001814015411014,null,0.7476007966671308,0.3941643042590228,null,0.7476007966671308,0.7487372705449759,null,0.7476007966671308,0.9973826089750809,null,0.14041914701366653,0.3232428853581445,null,0.14041914701366653,0.34754863628331334,null,0.14041914701366653,0.3941643042590228,null,0.14041914701366653,0.2962195119901445,null,0.785670906499177,0.3232428853581445,null,0.785670906499177,0.34754863628331334,null,0.785670906499177,0.8050183965987465,null,0.785670906499177,0.7487372705449759,null,0.785670906499177,0.9973826089750809,null,0.785670906499177,0.2962195119901445,null,0.3232428853581445,0.34754863628331334,null,0.3232428853581445,0.8050183965987465,null,0.3232428853581445,0.3941643042590228,null,0.3232428853581445,0.2962195119901445,null,0.34754863628331334,0.8050183965987465,null,0.34754863628331334,0.3941643042590228,null,0.34754863628331334,0.2962195119901445,null,0.06198214956602688,0.3941643042590228,null,0.8001814015411014,0.7487372705449759,null,0.8001814015411014,0.9973826089750809,null,0.3941643042590228,0.7487372705449759,null,0.3941643042590228,0.2962195119901445,null,0.7487372705449759,0.9973826089750809,null],\"type\":\"scatter\"},{\"hoverinfo\":\"text\",\"marker\":{\"color\":[8,7,10,9,6,10,9,7,10,7,8,8,8,3,3,8,14,10,7,8],\"colorbar\":{\"thickness\":15,\"title\":{\"side\":\"right\",\"text\":\"Node Connections\"},\"xanchor\":\"left\"},\"colorscale\":[[0.0,\"rgb(255,255,217)\"],[0.125,\"rgb(237,248,177)\"],[0.25,\"rgb(199,233,180)\"],[0.375,\"rgb(127,205,187)\"],[0.5,\"rgb(65,182,196)\"],[0.625,\"rgb(29,145,192)\"],[0.75,\"rgb(34,94,168)\"],[0.875,\"rgb(37,52,148)\"],[1.0,\"rgb(8,29,88)\"]],\"line\":{\"width\":2},\"reversescale\":true,\"showscale\":true,\"size\":10},\"mode\":\"markers\",\"text\":[\"# of connections: 8\",\"# of connections: 7\",\"# of connections: 10\",\"# of connections: 9\",\"# of connections: 6\",\"# of connections: 10\",\"# of connections: 9\",\"# of connections: 7\",\"# of connections: 10\",\"# of connections: 7\",\"# of connections: 8\",\"# of connections: 8\",\"# of connections: 8\",\"# of connections: 3\",\"# of connections: 3\",\"# of connections: 8\",\"# of connections: 14\",\"# of connections: 10\",\"# of connections: 7\",\"# of connections: 8\"],\"x\":[0.9203178625527391,0.5569554436488015,0.5973055757387452,0.7531357962610394,0.09458206640797795,0.7253746960232852,0.7556763314842607,0.19111864801689626,0.5209902479562298,0.16605031008341087,0.17149611656379848,0.11552425209396688,0.1400058485839205,0.7725464114553667,0.003566174436523961,0.8567674484831088,0.5393692839412741,0.654612195125851,0.5638228541052733,0.21229895103067042],\"y\":[0.5664035225499634,0.024074926510134542,0.882480215919919,0.822325187149463,0.11408836422817226,0.4319117348977545,0.6050075312322882,0.03879866896414108,0.7476007966671308,0.14041914701366653,0.785670906499177,0.3232428853581445,0.34754863628331334,0.06198214956602688,0.8050183965987465,0.8001814015411014,0.3941643042590228,0.7487372705449759,0.9973826089750809,0.2962195119901445],\"type\":\"scatter\"}],                        {\"annotations\":[{\"showarrow\":true,\"text\":\"Python code: <a href='https://plotly.com/ipython-notebooks/network-graphs/'> https://plotly.com/ipython-notebooks/network-graphs/</a>\",\"x\":0.005,\"xref\":\"paper\",\"y\":-0.002,\"yref\":\"paper\"}],\"hovermode\":\"closest\",\"margin\":{\"b\":20,\"l\":5,\"r\":5,\"t\":40},\"showlegend\":false,\"title\":{\"font\":{\"size\":16},\"text\":\"<br>Network graph made with Python\"},\"xaxis\":{\"showgrid\":false,\"showticklabels\":false,\"zeroline\":false},\"yaxis\":{\"showgrid\":false,\"showticklabels\":false,\"zeroline\":false},\"template\":{\"data\":{\"histogram2dcontour\":[{\"type\":\"histogram2dcontour\",\"colorbar\":{\"outlinewidth\":0,\"ticks\":\"\"},\"colorscale\":[[0.0,\"#0d0887\"],[0.1111111111111111,\"#46039f\"],[0.2222222222222222,\"#7201a8\"],[0.3333333333333333,\"#9c179e\"],[0.4444444444444444,\"#bd3786\"],[0.5555555555555556,\"#d8576b\"],[0.6666666666666666,\"#ed7953\"],[0.7777777777777778,\"#fb9f3a\"],[0.8888888888888888,\"#fdca26\"],[1.0,\"#f0f921\"]]}],\"choropleth\":[{\"type\":\"choropleth\",\"colorbar\":{\"outlinewidth\":0,\"ticks\":\"\"}}],\"histogram2d\":[{\"type\":\"histogram2d\",\"colorbar\":{\"outlinewidth\":0,\"ticks\":\"\"},\"colorscale\":[[0.0,\"#0d0887\"],[0.1111111111111111,\"#46039f\"],[0.2222222222222222,\"#7201a8\"],[0.3333333333333333,\"#9c179e\"],[0.4444444444444444,\"#bd3786\"],[0.5555555555555556,\"#d8576b\"],[0.6666666666666666,\"#ed7953\"],[0.7777777777777778,\"#fb9f3a\"],[0.8888888888888888,\"#fdca26\"],[1.0,\"#f0f921\"]]}],\"heatmap\":[{\"type\":\"heatmap\",\"colorbar\":{\"outlinewidth\":0,\"ticks\":\"\"},\"colorscale\":[[0.0,\"#0d0887\"],[0.1111111111111111,\"#46039f\"],[0.2222222222222222,\"#7201a8\"],[0.3333333333333333,\"#9c179e\"],[0.4444444444444444,\"#bd3786\"],[0.5555555555555556,\"#d8576b\"],[0.6666666666666666,\"#ed7953\"],[0.7777777777777778,\"#fb9f3a\"],[0.8888888888888888,\"#fdca26\"],[1.0,\"#f0f921\"]]}],\"heatmapgl\":[{\"type\":\"heatmapgl\",\"colorbar\":{\"outlinewidth\":0,\"ticks\":\"\"},\"colorscale\":[[0.0,\"#0d0887\"],[0.1111111111111111,\"#46039f\"],[0.2222222222222222,\"#7201a8\"],[0.3333333333333333,\"#9c179e\"],[0.4444444444444444,\"#bd3786\"],[0.5555555555555556,\"#d8576b\"],[0.6666666666666666,\"#ed7953\"],[0.7777777777777778,\"#fb9f3a\"],[0.8888888888888888,\"#fdca26\"],[1.0,\"#f0f921\"]]}],\"contourcarpet\":[{\"type\":\"contourcarpet\",\"colorbar\":{\"outlinewidth\":0,\"ticks\":\"\"}}],\"contour\":[{\"type\":\"contour\",\"colorbar\":{\"outlinewidth\":0,\"ticks\":\"\"},\"colorscale\":[[0.0,\"#0d0887\"],[0.1111111111111111,\"#46039f\"],[0.2222222222222222,\"#7201a8\"],[0.3333333333333333,\"#9c179e\"],[0.4444444444444444,\"#bd3786\"],[0.5555555555555556,\"#d8576b\"],[0.6666666666666666,\"#ed7953\"],[0.7777777777777778,\"#fb9f3a\"],[0.8888888888888888,\"#fdca26\"],[1.0,\"#f0f921\"]]}],\"surface\":[{\"type\":\"surface\",\"colorbar\":{\"outlinewidth\":0,\"ticks\":\"\"},\"colorscale\":[[0.0,\"#0d0887\"],[0.1111111111111111,\"#46039f\"],[0.2222222222222222,\"#7201a8\"],[0.3333333333333333,\"#9c179e\"],[0.4444444444444444,\"#bd3786\"],[0.5555555555555556,\"#d8576b\"],[0.6666666666666666,\"#ed7953\"],[0.7777777777777778,\"#fb9f3a\"],[0.8888888888888888,\"#fdca26\"],[1.0,\"#f0f921\"]]}],\"mesh3d\":[{\"type\":\"mesh3d\",\"colorbar\":{\"outlinewidth\":0,\"ticks\":\"\"}}],\"scatter\":[{\"fillpattern\":{\"fillmode\":\"overlay\",\"size\":10,\"solidity\":0.2},\"type\":\"scatter\"}],\"parcoords\":[{\"type\":\"parcoords\",\"line\":{\"colorbar\":{\"outlinewidth\":0,\"ticks\":\"\"}}}],\"scatterpolargl\":[{\"type\":\"scatterpolargl\",\"marker\":{\"colorbar\":{\"outlinewidth\":0,\"ticks\":\"\"}}}],\"bar\":[{\"error_x\":{\"color\":\"#2a3f5f\"},\"error_y\":{\"color\":\"#2a3f5f\"},\"marker\":{\"line\":{\"color\":\"#E5ECF6\",\"width\":0.5},\"pattern\":{\"fillmode\":\"overlay\",\"size\":10,\"solidity\":0.2}},\"type\":\"bar\"}],\"scattergeo\":[{\"type\":\"scattergeo\",\"marker\":{\"colorbar\":{\"outlinewidth\":0,\"ticks\":\"\"}}}],\"scatterpolar\":[{\"type\":\"scatterpolar\",\"marker\":{\"colorbar\":{\"outlinewidth\":0,\"ticks\":\"\"}}}],\"histogram\":[{\"marker\":{\"pattern\":{\"fillmode\":\"overlay\",\"size\":10,\"solidity\":0.2}},\"type\":\"histogram\"}],\"scattergl\":[{\"type\":\"scattergl\",\"marker\":{\"colorbar\":{\"outlinewidth\":0,\"ticks\":\"\"}}}],\"scatter3d\":[{\"type\":\"scatter3d\",\"line\":{\"colorbar\":{\"outlinewidth\":0,\"ticks\":\"\"}},\"marker\":{\"colorbar\":{\"outlinewidth\":0,\"ticks\":\"\"}}}],\"scattermapbox\":[{\"type\":\"scattermapbox\",\"marker\":{\"colorbar\":{\"outlinewidth\":0,\"ticks\":\"\"}}}],\"scatterternary\":[{\"type\":\"scatterternary\",\"marker\":{\"colorbar\":{\"outlinewidth\":0,\"ticks\":\"\"}}}],\"scattercarpet\":[{\"type\":\"scattercarpet\",\"marker\":{\"colorbar\":{\"outlinewidth\":0,\"ticks\":\"\"}}}],\"carpet\":[{\"aaxis\":{\"endlinecolor\":\"#2a3f5f\",\"gridcolor\":\"white\",\"linecolor\":\"white\",\"minorgridcolor\":\"white\",\"startlinecolor\":\"#2a3f5f\"},\"baxis\":{\"endlinecolor\":\"#2a3f5f\",\"gridcolor\":\"white\",\"linecolor\":\"white\",\"minorgridcolor\":\"white\",\"startlinecolor\":\"#2a3f5f\"},\"type\":\"carpet\"}],\"table\":[{\"cells\":{\"fill\":{\"color\":\"#EBF0F8\"},\"line\":{\"color\":\"white\"}},\"header\":{\"fill\":{\"color\":\"#C8D4E3\"},\"line\":{\"color\":\"white\"}},\"type\":\"table\"}],\"barpolar\":[{\"marker\":{\"line\":{\"color\":\"#E5ECF6\",\"width\":0.5},\"pattern\":{\"fillmode\":\"overlay\",\"size\":10,\"solidity\":0.2}},\"type\":\"barpolar\"}],\"pie\":[{\"automargin\":true,\"type\":\"pie\"}]},\"layout\":{\"autotypenumbers\":\"strict\",\"colorway\":[\"#636efa\",\"#EF553B\",\"#00cc96\",\"#ab63fa\",\"#FFA15A\",\"#19d3f3\",\"#FF6692\",\"#B6E880\",\"#FF97FF\",\"#FECB52\"],\"font\":{\"color\":\"#2a3f5f\"},\"hovermode\":\"closest\",\"hoverlabel\":{\"align\":\"left\"},\"paper_bgcolor\":\"white\",\"plot_bgcolor\":\"#E5ECF6\",\"polar\":{\"bgcolor\":\"#E5ECF6\",\"angularaxis\":{\"gridcolor\":\"white\",\"linecolor\":\"white\",\"ticks\":\"\"},\"radialaxis\":{\"gridcolor\":\"white\",\"linecolor\":\"white\",\"ticks\":\"\"}},\"ternary\":{\"bgcolor\":\"#E5ECF6\",\"aaxis\":{\"gridcolor\":\"white\",\"linecolor\":\"white\",\"ticks\":\"\"},\"baxis\":{\"gridcolor\":\"white\",\"linecolor\":\"white\",\"ticks\":\"\"},\"caxis\":{\"gridcolor\":\"white\",\"linecolor\":\"white\",\"ticks\":\"\"}},\"coloraxis\":{\"colorbar\":{\"outlinewidth\":0,\"ticks\":\"\"}},\"colorscale\":{\"sequential\":[[0.0,\"#0d0887\"],[0.1111111111111111,\"#46039f\"],[0.2222222222222222,\"#7201a8\"],[0.3333333333333333,\"#9c179e\"],[0.4444444444444444,\"#bd3786\"],[0.5555555555555556,\"#d8576b\"],[0.6666666666666666,\"#ed7953\"],[0.7777777777777778,\"#fb9f3a\"],[0.8888888888888888,\"#fdca26\"],[1.0,\"#f0f921\"]],\"sequentialminus\":[[0.0,\"#0d0887\"],[0.1111111111111111,\"#46039f\"],[0.2222222222222222,\"#7201a8\"],[0.3333333333333333,\"#9c179e\"],[0.4444444444444444,\"#bd3786\"],[0.5555555555555556,\"#d8576b\"],[0.6666666666666666,\"#ed7953\"],[0.7777777777777778,\"#fb9f3a\"],[0.8888888888888888,\"#fdca26\"],[1.0,\"#f0f921\"]],\"diverging\":[[0,\"#8e0152\"],[0.1,\"#c51b7d\"],[0.2,\"#de77ae\"],[0.3,\"#f1b6da\"],[0.4,\"#fde0ef\"],[0.5,\"#f7f7f7\"],[0.6,\"#e6f5d0\"],[0.7,\"#b8e186\"],[0.8,\"#7fbc41\"],[0.9,\"#4d9221\"],[1,\"#276419\"]]},\"xaxis\":{\"gridcolor\":\"white\",\"linecolor\":\"white\",\"ticks\":\"\",\"title\":{\"standoff\":15},\"zerolinecolor\":\"white\",\"automargin\":true,\"zerolinewidth\":2},\"yaxis\":{\"gridcolor\":\"white\",\"linecolor\":\"white\",\"ticks\":\"\",\"title\":{\"standoff\":15},\"zerolinecolor\":\"white\",\"automargin\":true,\"zerolinewidth\":2},\"scene\":{\"xaxis\":{\"backgroundcolor\":\"#E5ECF6\",\"gridcolor\":\"white\",\"linecolor\":\"white\",\"showbackground\":true,\"ticks\":\"\",\"zerolinecolor\":\"white\",\"gridwidth\":2},\"yaxis\":{\"backgroundcolor\":\"#E5ECF6\",\"gridcolor\":\"white\",\"linecolor\":\"white\",\"showbackground\":true,\"ticks\":\"\",\"zerolinecolor\":\"white\",\"gridwidth\":2},\"zaxis\":{\"backgroundcolor\":\"#E5ECF6\",\"gridcolor\":\"white\",\"linecolor\":\"white\",\"showbackground\":true,\"ticks\":\"\",\"zerolinecolor\":\"white\",\"gridwidth\":2}},\"shapedefaults\":{\"line\":{\"color\":\"#2a3f5f\"}},\"annotationdefaults\":{\"arrowcolor\":\"#2a3f5f\",\"arrowhead\":0,\"arrowwidth\":1},\"geo\":{\"bgcolor\":\"white\",\"landcolor\":\"#E5ECF6\",\"subunitcolor\":\"white\",\"showland\":true,\"showlakes\":true,\"lakecolor\":\"white\"},\"title\":{\"x\":0.05},\"mapbox\":{\"style\":\"light\"}}}},                        {\"responsive\": true}                    ).then(function(){\n",
       "                            \n",
       "var gd = document.getElementById('8f397443-108d-4030-b0df-1ba2af3037f8');\n",
       "var x = new MutationObserver(function (mutations, observer) {{\n",
       "        var display = window.getComputedStyle(gd).display;\n",
       "        if (!display || display === 'none') {{\n",
       "            console.log([gd, 'removed!']);\n",
       "            Plotly.purge(gd);\n",
       "            observer.disconnect();\n",
       "        }}\n",
       "}});\n",
       "\n",
       "// Listen for the removal of the full notebook cells\n",
       "var notebookContainer = gd.closest('#notebook-container');\n",
       "if (notebookContainer) {{\n",
       "    x.observe(notebookContainer, {childList: true});\n",
       "}}\n",
       "\n",
       "// Listen for the clearing of the current output cell\n",
       "var outputEl = gd.closest('.output');\n",
       "if (outputEl) {{\n",
       "    x.observe(outputEl, {childList: true});\n",
       "}}\n",
       "\n",
       "                        })                };                });            </script>        </div>"
      ]
     },
     "metadata": {},
     "output_type": "display_data"
    }
   ],
   "source": [
    "fig = go.Figure(data=[edge_trace, node_trace],\n",
    "             layout=go.Layout(\n",
    "                title='<br>Network graph made with Python',\n",
    "                titlefont_size=16,\n",
    "                showlegend=False,\n",
    "                hovermode='closest',\n",
    "                margin=dict(b=20,l=5,r=5,t=40),\n",
    "                annotations=[ dict(\n",
    "                    text=\"Python code: <a href='https://plotly.com/ipython-notebooks/network-graphs/'> https://plotly.com/ipython-notebooks/network-graphs/</a>\",\n",
    "                    showarrow=True,\n",
    "                    xref=\"paper\", yref=\"paper\",\n",
    "                    x=0.005, y=-0.002 ) ],\n",
    "                xaxis=dict(showgrid=False, zeroline=False, showticklabels=False),\n",
    "                yaxis=dict(showgrid=False, zeroline=False, showticklabels=False))\n",
    "                )\n",
    "fig.show()"
   ]
  },
  {
   "cell_type": "code",
   "execution_count": null,
   "metadata": {},
   "outputs": [],
   "source": []
  },
  {
   "cell_type": "code",
   "execution_count": null,
   "metadata": {},
   "outputs": [],
   "source": []
  }
 ],
 "metadata": {
  "kernelspec": {
   "display_name": "base",
   "language": "python",
   "name": "python3"
  },
  "language_info": {
   "codemirror_mode": {
    "name": "ipython",
    "version": 3
   },
   "file_extension": ".py",
   "mimetype": "text/x-python",
   "name": "python",
   "nbconvert_exporter": "python",
   "pygments_lexer": "ipython3",
   "version": "3.10.8"
  },
  "vscode": {
   "interpreter": {
    "hash": "258ed27130092d1611e438a5ae26a3133782840bad2ac649c8a295d1052b554d"
   }
  }
 },
 "nbformat": 4,
 "nbformat_minor": 2
}
